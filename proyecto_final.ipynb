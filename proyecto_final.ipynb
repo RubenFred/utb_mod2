{
 "cells": [
  {
   "attachments": {},
   "cell_type": "markdown",
   "metadata": {},
   "source": [
    "### Proyecto final: Calculo del Indice de Prosperidad Sostenible aplicando Tecnicas y herramientas para el analisis de datos\n",
    "#### Recoleccion de datos"
   ]
  },
  {
   "cell_type": "code",
   "execution_count": 1,
   "metadata": {},
   "outputs": [],
   "source": [
    "# Importando librerias necesarias para el proyecto\n",
    "import pandas as pd \n",
    "import numpy as np\n",
    "\n",
    "%matplotlib inline\n",
    "import seaborn as sns\n",
    "import matplotlib.pyplot as plt\n",
    "from matplotlib.colors import ListedColormap\n",
    "\n",
    "from sqlalchemy import create_engine, Column, Integer, String, Float, ForeignKey\n",
    "from sqlalchemy.ext.declarative import declarative_base\n",
    "from sqlalchemy.orm import relationship, sessionmaker"
   ]
  },
  {
   "cell_type": "code",
   "execution_count": 2,
   "metadata": {},
   "outputs": [],
   "source": [
    "# Definiendo la conexion para la base de datos PostgreSql, con las credenciales asignadas:\n",
    "DATABASE_URL = \"\"\n",
    "\n",
    "engine = create_engine(DATABASE_URL)"
   ]
  },
  {
   "cell_type": "code",
   "execution_count": 3,
   "metadata": {},
   "outputs": [],
   "source": [
    "# Script sql para obtener los paises asignados a cada estudiante\n",
    "sql_query = \"select * from country_info where num_ci = 4243879\"\n",
    "\n",
    "# Importamos el set de datos obtenidos al dataframe 'df_paises' \n",
    "df_paises = pd.read_sql(sql_query, con=engine)"
   ]
  },
  {
   "cell_type": "code",
   "execution_count": 4,
   "metadata": {},
   "outputs": [
    {
     "data": {
      "text/html": [
       "<div>\n",
       "<style scoped>\n",
       "    .dataframe tbody tr th:only-of-type {\n",
       "        vertical-align: middle;\n",
       "    }\n",
       "\n",
       "    .dataframe tbody tr th {\n",
       "        vertical-align: top;\n",
       "    }\n",
       "\n",
       "    .dataframe thead th {\n",
       "        text-align: right;\n",
       "    }\n",
       "</style>\n",
       "<table border=\"1\" class=\"dataframe\">\n",
       "  <thead>\n",
       "    <tr style=\"text-align: right;\">\n",
       "      <th></th>\n",
       "      <th>id</th>\n",
       "      <th>country_name</th>\n",
       "      <th>country_code</th>\n",
       "      <th>region</th>\n",
       "      <th>income_group</th>\n",
       "      <th>num_ci</th>\n",
       "    </tr>\n",
       "  </thead>\n",
       "  <tbody>\n",
       "    <tr>\n",
       "      <th>0</th>\n",
       "      <td>52</td>\n",
       "      <td>Bangladesh</td>\n",
       "      <td>BGD</td>\n",
       "      <td>South Asia</td>\n",
       "      <td>Lower middle income</td>\n",
       "      <td>4243879</td>\n",
       "    </tr>\n",
       "    <tr>\n",
       "      <th>1</th>\n",
       "      <td>93</td>\n",
       "      <td>Eritrea</td>\n",
       "      <td>ERI</td>\n",
       "      <td>Sub-Saharan Africa</td>\n",
       "      <td>Low income</td>\n",
       "      <td>4243879</td>\n",
       "    </tr>\n",
       "    <tr>\n",
       "      <th>2</th>\n",
       "      <td>134</td>\n",
       "      <td>Kazakhstan</td>\n",
       "      <td>KAZ</td>\n",
       "      <td>Europe &amp; Central Asia</td>\n",
       "      <td>Upper middle income</td>\n",
       "      <td>4243879</td>\n",
       "    </tr>\n",
       "    <tr>\n",
       "      <th>3</th>\n",
       "      <td>175</td>\n",
       "      <td>New Caledonia</td>\n",
       "      <td>NCL</td>\n",
       "      <td>East Asia &amp; Pacific</td>\n",
       "      <td>High income</td>\n",
       "      <td>4243879</td>\n",
       "    </tr>\n",
       "    <tr>\n",
       "      <th>4</th>\n",
       "      <td>216</td>\n",
       "      <td>Slovenia</td>\n",
       "      <td>SVN</td>\n",
       "      <td>Europe &amp; Central Asia</td>\n",
       "      <td>High income</td>\n",
       "      <td>4243879</td>\n",
       "    </tr>\n",
       "  </tbody>\n",
       "</table>\n",
       "</div>"
      ],
      "text/plain": [
       "    id   country_name country_code                 region  \\\n",
       "0   52     Bangladesh          BGD             South Asia   \n",
       "1   93        Eritrea          ERI     Sub-Saharan Africa   \n",
       "2  134     Kazakhstan          KAZ  Europe & Central Asia   \n",
       "3  175  New Caledonia          NCL    East Asia & Pacific   \n",
       "4  216       Slovenia          SVN  Europe & Central Asia   \n",
       "\n",
       "          income_group   num_ci  \n",
       "0  Lower middle income  4243879  \n",
       "1           Low income  4243879  \n",
       "2  Upper middle income  4243879  \n",
       "3          High income  4243879  \n",
       "4          High income  4243879  "
      ]
     },
     "execution_count": 4,
     "metadata": {},
     "output_type": "execute_result"
    }
   ],
   "source": [
    "# listado de paises asignados\n",
    "df_paises"
   ]
  },
  {
   "cell_type": "code",
   "execution_count": 5,
   "metadata": {},
   "outputs": [],
   "source": [
    "# Consulta sql para obtener los datos de la tabla 'indicator'\n",
    "sql_query = \"select * from indicator\"\n",
    "\n",
    "# Importamos el set de datos obtenidos al dataframe 'df_indicadores' \n",
    "df_indicadores = pd.read_sql(sql_query, con=engine)"
   ]
  },
  {
   "cell_type": "code",
   "execution_count": 6,
   "metadata": {},
   "outputs": [
    {
     "data": {
      "text/html": [
       "<div>\n",
       "<style scoped>\n",
       "    .dataframe tbody tr th:only-of-type {\n",
       "        vertical-align: middle;\n",
       "    }\n",
       "\n",
       "    .dataframe tbody tr th {\n",
       "        vertical-align: top;\n",
       "    }\n",
       "\n",
       "    .dataframe thead th {\n",
       "        text-align: right;\n",
       "    }\n",
       "</style>\n",
       "<table border=\"1\" class=\"dataframe\">\n",
       "  <thead>\n",
       "    <tr style=\"text-align: right;\">\n",
       "      <th></th>\n",
       "      <th>id</th>\n",
       "      <th>indicator_name</th>\n",
       "      <th>indicator_code</th>\n",
       "      <th>topic</th>\n",
       "    </tr>\n",
       "  </thead>\n",
       "  <tbody>\n",
       "    <tr>\n",
       "      <th>0</th>\n",
       "      <td>1</td>\n",
       "      <td>Example Indicator</td>\n",
       "      <td>EXI</td>\n",
       "      <td>Example Topic</td>\n",
       "    </tr>\n",
       "    <tr>\n",
       "      <th>1</th>\n",
       "      <td>34</td>\n",
       "      <td>GDP per capita (constant 2015 US$)</td>\n",
       "      <td>NY.GDP.PCAP.KD</td>\n",
       "      <td>Economic Policy &amp; Debt: National accounts: US$...</td>\n",
       "    </tr>\n",
       "    <tr>\n",
       "      <th>2</th>\n",
       "      <td>35</td>\n",
       "      <td>Gini index</td>\n",
       "      <td>SI.POV.GINI</td>\n",
       "      <td>Poverty: Income distribution</td>\n",
       "    </tr>\n",
       "    <tr>\n",
       "      <th>3</th>\n",
       "      <td>36</td>\n",
       "      <td>Poverty gap at $3.65 a day (2017 PPP) (%)</td>\n",
       "      <td>SI.POV.LMIC.GP</td>\n",
       "      <td>Poverty: Poverty rates</td>\n",
       "    </tr>\n",
       "    <tr>\n",
       "      <th>4</th>\n",
       "      <td>37</td>\n",
       "      <td>Population, total</td>\n",
       "      <td>SP.POP.TOTL</td>\n",
       "      <td>Health: Population: Structure</td>\n",
       "    </tr>\n",
       "    <tr>\n",
       "      <th>5</th>\n",
       "      <td>38</td>\n",
       "      <td>Sustainable Prosperity Index</td>\n",
       "      <td>SI.PROSP.IDX</td>\n",
       "      <td>Human: Prosperity</td>\n",
       "    </tr>\n",
       "    <tr>\n",
       "      <th>6</th>\n",
       "      <td>39</td>\n",
       "      <td>Indice de Progreso Social</td>\n",
       "      <td>IPS</td>\n",
       "      <td>Desarrollo Social</td>\n",
       "    </tr>\n",
       "  </tbody>\n",
       "</table>\n",
       "</div>"
      ],
      "text/plain": [
       "   id                             indicator_name  indicator_code  \\\n",
       "0   1                          Example Indicator             EXI   \n",
       "1  34         GDP per capita (constant 2015 US$)  NY.GDP.PCAP.KD   \n",
       "2  35                                 Gini index     SI.POV.GINI   \n",
       "3  36  Poverty gap at $3.65 a day (2017 PPP) (%)  SI.POV.LMIC.GP   \n",
       "4  37                          Population, total     SP.POP.TOTL   \n",
       "5  38               Sustainable Prosperity Index    SI.PROSP.IDX   \n",
       "6  39                  Indice de Progreso Social             IPS   \n",
       "\n",
       "                                               topic  \n",
       "0                                      Example Topic  \n",
       "1  Economic Policy & Debt: National accounts: US$...  \n",
       "2                       Poverty: Income distribution  \n",
       "3                             Poverty: Poverty rates  \n",
       "4                      Health: Population: Structure  \n",
       "5                                  Human: Prosperity  \n",
       "6                                  Desarrollo Social  "
      ]
     },
     "execution_count": 6,
     "metadata": {},
     "output_type": "execute_result"
    }
   ],
   "source": [
    "# listado de indicadores\n",
    "df_indicadores"
   ]
  },
  {
   "cell_type": "code",
   "execution_count": 7,
   "metadata": {},
   "outputs": [],
   "source": [
    "\n",
    "# Script sql para obtener los indicadores de los paises asignados para el trabajo\n",
    "# se va a tomar el id del pais para poder filtrar\n",
    "sql_query = \"select * from yearly_value where country_info_id in (52,93,134,175,216)\"\n",
    "\n",
    "# Importamos el set de datos obtenidos al dataframe 'df_paises_indicad' \n",
    "df_paises_indicad = pd.read_sql(sql_query, con=engine)\n"
   ]
  },
  {
   "cell_type": "code",
   "execution_count": 8,
   "metadata": {},
   "outputs": [
    {
     "data": {
      "text/html": [
       "<div>\n",
       "<style scoped>\n",
       "    .dataframe tbody tr th:only-of-type {\n",
       "        vertical-align: middle;\n",
       "    }\n",
       "\n",
       "    .dataframe tbody tr th {\n",
       "        vertical-align: top;\n",
       "    }\n",
       "\n",
       "    .dataframe thead th {\n",
       "        text-align: right;\n",
       "    }\n",
       "</style>\n",
       "<table border=\"1\" class=\"dataframe\">\n",
       "  <thead>\n",
       "    <tr style=\"text-align: right;\">\n",
       "      <th></th>\n",
       "      <th>id</th>\n",
       "      <th>year</th>\n",
       "      <th>value</th>\n",
       "      <th>country_info_id</th>\n",
       "      <th>indicator_id</th>\n",
       "    </tr>\n",
       "  </thead>\n",
       "  <tbody>\n",
       "    <tr>\n",
       "      <th>0</th>\n",
       "      <td>73</td>\n",
       "      <td>2000</td>\n",
       "      <td>6.462631e+02</td>\n",
       "      <td>52</td>\n",
       "      <td>34</td>\n",
       "    </tr>\n",
       "    <tr>\n",
       "      <th>1</th>\n",
       "      <td>74</td>\n",
       "      <td>2000</td>\n",
       "      <td>3.340000e+01</td>\n",
       "      <td>52</td>\n",
       "      <td>35</td>\n",
       "    </tr>\n",
       "    <tr>\n",
       "      <th>2</th>\n",
       "      <td>75</td>\n",
       "      <td>2000</td>\n",
       "      <td>1.291933e+08</td>\n",
       "      <td>52</td>\n",
       "      <td>37</td>\n",
       "    </tr>\n",
       "    <tr>\n",
       "      <th>3</th>\n",
       "      <td>76</td>\n",
       "      <td>2000</td>\n",
       "      <td>2.700000e+01</td>\n",
       "      <td>52</td>\n",
       "      <td>36</td>\n",
       "    </tr>\n",
       "    <tr>\n",
       "      <th>4</th>\n",
       "      <td>185</td>\n",
       "      <td>2000</td>\n",
       "      <td>7.936206e+02</td>\n",
       "      <td>93</td>\n",
       "      <td>34</td>\n",
       "    </tr>\n",
       "  </tbody>\n",
       "</table>\n",
       "</div>"
      ],
      "text/plain": [
       "    id  year         value  country_info_id  indicator_id\n",
       "0   73  2000  6.462631e+02               52            34\n",
       "1   74  2000  3.340000e+01               52            35\n",
       "2   75  2000  1.291933e+08               52            37\n",
       "3   76  2000  2.700000e+01               52            36\n",
       "4  185  2000  7.936206e+02               93            34"
      ]
     },
     "execution_count": 8,
     "metadata": {},
     "output_type": "execute_result"
    }
   ],
   "source": [
    "# mostrando los primeros registros\n",
    "df_paises_indicad.head()"
   ]
  },
  {
   "cell_type": "code",
   "execution_count": 9,
   "metadata": {},
   "outputs": [
    {
     "data": {
      "text/html": [
       "<div>\n",
       "<style scoped>\n",
       "    .dataframe tbody tr th:only-of-type {\n",
       "        vertical-align: middle;\n",
       "    }\n",
       "\n",
       "    .dataframe tbody tr th {\n",
       "        vertical-align: top;\n",
       "    }\n",
       "\n",
       "    .dataframe thead th {\n",
       "        text-align: right;\n",
       "    }\n",
       "</style>\n",
       "<table border=\"1\" class=\"dataframe\">\n",
       "  <thead>\n",
       "    <tr style=\"text-align: right;\">\n",
       "      <th></th>\n",
       "      <th>id</th>\n",
       "      <th>year</th>\n",
       "      <th>value</th>\n",
       "      <th>country_info_id</th>\n",
       "      <th>indicator_id</th>\n",
       "    </tr>\n",
       "  </thead>\n",
       "  <tbody>\n",
       "    <tr>\n",
       "      <th>332</th>\n",
       "      <td>22008</td>\n",
       "      <td>2017</td>\n",
       "      <td>-0.25333</td>\n",
       "      <td>216</td>\n",
       "      <td>38</td>\n",
       "    </tr>\n",
       "    <tr>\n",
       "      <th>333</th>\n",
       "      <td>22009</td>\n",
       "      <td>2018</td>\n",
       "      <td>-0.26723</td>\n",
       "      <td>216</td>\n",
       "      <td>38</td>\n",
       "    </tr>\n",
       "    <tr>\n",
       "      <th>334</th>\n",
       "      <td>22010</td>\n",
       "      <td>2019</td>\n",
       "      <td>-0.27051</td>\n",
       "      <td>216</td>\n",
       "      <td>38</td>\n",
       "    </tr>\n",
       "    <tr>\n",
       "      <th>335</th>\n",
       "      <td>22011</td>\n",
       "      <td>2020</td>\n",
       "      <td>-0.25122</td>\n",
       "      <td>216</td>\n",
       "      <td>38</td>\n",
       "    </tr>\n",
       "    <tr>\n",
       "      <th>336</th>\n",
       "      <td>22012</td>\n",
       "      <td>2021</td>\n",
       "      <td>-0.27396</td>\n",
       "      <td>216</td>\n",
       "      <td>38</td>\n",
       "    </tr>\n",
       "  </tbody>\n",
       "</table>\n",
       "</div>"
      ],
      "text/plain": [
       "        id  year    value  country_info_id  indicator_id\n",
       "332  22008  2017 -0.25333              216            38\n",
       "333  22009  2018 -0.26723              216            38\n",
       "334  22010  2019 -0.27051              216            38\n",
       "335  22011  2020 -0.25122              216            38\n",
       "336  22012  2021 -0.27396              216            38"
      ]
     },
     "execution_count": 9,
     "metadata": {},
     "output_type": "execute_result"
    }
   ],
   "source": [
    "# mostrando los ultimos registros\n",
    "df_paises_indicad.tail()"
   ]
  },
  {
   "cell_type": "code",
   "execution_count": 10,
   "metadata": {},
   "outputs": [
    {
     "data": {
      "text/plain": [
       "(337, 5)"
      ]
     },
     "execution_count": 10,
     "metadata": {},
     "output_type": "execute_result"
    }
   ],
   "source": [
    "# Nro de filas y columnas de los indicadores para los 4 paises\n",
    "df_paises_indicad.shape"
   ]
  },
  {
   "cell_type": "code",
   "execution_count": 11,
   "metadata": {},
   "outputs": [
    {
     "data": {
      "text/plain": [
       "id                   int64\n",
       "year                 int64\n",
       "value              float64\n",
       "country_info_id      int64\n",
       "indicator_id         int64\n",
       "dtype: object"
      ]
     },
     "execution_count": 11,
     "metadata": {},
     "output_type": "execute_result"
    }
   ],
   "source": [
    "# tipos de datos de los campos del dataframe\n",
    "df_paises_indicad.dtypes"
   ]
  },
  {
   "cell_type": "code",
   "execution_count": 12,
   "metadata": {},
   "outputs": [
    {
     "data": {
      "text/plain": [
       "id                 0\n",
       "year               0\n",
       "value              0\n",
       "country_info_id    0\n",
       "indicator_id       0\n",
       "dtype: int64"
      ]
     },
     "execution_count": 12,
     "metadata": {},
     "output_type": "execute_result"
    }
   ],
   "source": [
    "# identificando si hay valores nulos en el conjunto de datos\n",
    "df_paises_indicad.isnull().sum()"
   ]
  },
  {
   "cell_type": "code",
   "execution_count": 13,
   "metadata": {},
   "outputs": [],
   "source": [
    "# verificando si hay algun null en el set de datos\n",
    "aux = df_paises_indicad[df_paises_indicad.isnull().any(axis=1)]"
   ]
  },
  {
   "cell_type": "code",
   "execution_count": 14,
   "metadata": {},
   "outputs": [
    {
     "name": "stdout",
     "output_type": "stream",
     "text": [
      "<class 'pandas.core.frame.DataFrame'>\n",
      "RangeIndex: 337 entries, 0 to 336\n",
      "Data columns (total 5 columns):\n",
      " #   Column           Non-Null Count  Dtype  \n",
      "---  ------           --------------  -----  \n",
      " 0   id               337 non-null    int64  \n",
      " 1   year             337 non-null    int64  \n",
      " 2   value            337 non-null    float64\n",
      " 3   country_info_id  337 non-null    int64  \n",
      " 4   indicator_id     337 non-null    int64  \n",
      "dtypes: float64(1), int64(4)\n",
      "memory usage: 13.3 KB\n"
     ]
    }
   ],
   "source": [
    "# Verificar si los registros estan completos\n",
    "aux = df_paises_indicad.info()"
   ]
  },
  {
   "attachments": {},
   "cell_type": "markdown",
   "metadata": {},
   "source": [
    "Los datos ya estan verificados para poder trabajarlos.\n",
    "\n",
    "De la tabla 'yearly_value' se va a obtener los datos de los indicadores\n",
    " por año, pais y que contengan solo los cuatro indicadores."
   ]
  },
  {
   "cell_type": "code",
   "execution_count": 15,
   "metadata": {},
   "outputs": [],
   "source": [
    "# indicadores para Bangladesh con id 52\n",
    "sql_query =\"select * from yearly_value where country_info_id  = 52 and indicator_id in (34,35,36,37) and year in (select year from yearly_value where country_info_id  = 52 and indicator_id in (34,35,36,37) group by year having count(year)>=4)\"\n",
    "df_bgd = pd.read_sql(sql_query, con=engine)"
   ]
  },
  {
   "cell_type": "code",
   "execution_count": 16,
   "metadata": {},
   "outputs": [
    {
     "data": {
      "text/html": [
       "<div>\n",
       "<style scoped>\n",
       "    .dataframe tbody tr th:only-of-type {\n",
       "        vertical-align: middle;\n",
       "    }\n",
       "\n",
       "    .dataframe tbody tr th {\n",
       "        vertical-align: top;\n",
       "    }\n",
       "\n",
       "    .dataframe thead th {\n",
       "        text-align: right;\n",
       "    }\n",
       "</style>\n",
       "<table border=\"1\" class=\"dataframe\">\n",
       "  <thead>\n",
       "    <tr style=\"text-align: right;\">\n",
       "      <th></th>\n",
       "      <th>id</th>\n",
       "      <th>year</th>\n",
       "      <th>value</th>\n",
       "      <th>country_info_id</th>\n",
       "      <th>indicator_id</th>\n",
       "    </tr>\n",
       "  </thead>\n",
       "  <tbody>\n",
       "    <tr>\n",
       "      <th>0</th>\n",
       "      <td>73</td>\n",
       "      <td>2000</td>\n",
       "      <td>6.462631e+02</td>\n",
       "      <td>52</td>\n",
       "      <td>34</td>\n",
       "    </tr>\n",
       "    <tr>\n",
       "      <th>1</th>\n",
       "      <td>74</td>\n",
       "      <td>2000</td>\n",
       "      <td>3.340000e+01</td>\n",
       "      <td>52</td>\n",
       "      <td>35</td>\n",
       "    </tr>\n",
       "    <tr>\n",
       "      <th>2</th>\n",
       "      <td>76</td>\n",
       "      <td>2000</td>\n",
       "      <td>2.700000e+01</td>\n",
       "      <td>52</td>\n",
       "      <td>36</td>\n",
       "    </tr>\n",
       "    <tr>\n",
       "      <th>3</th>\n",
       "      <td>75</td>\n",
       "      <td>2000</td>\n",
       "      <td>1.291933e+08</td>\n",
       "      <td>52</td>\n",
       "      <td>37</td>\n",
       "    </tr>\n",
       "    <tr>\n",
       "      <th>4</th>\n",
       "      <td>2721</td>\n",
       "      <td>2005</td>\n",
       "      <td>7.591546e+02</td>\n",
       "      <td>52</td>\n",
       "      <td>34</td>\n",
       "    </tr>\n",
       "  </tbody>\n",
       "</table>\n",
       "</div>"
      ],
      "text/plain": [
       "     id  year         value  country_info_id  indicator_id\n",
       "0    73  2000  6.462631e+02               52            34\n",
       "1    74  2000  3.340000e+01               52            35\n",
       "2    76  2000  2.700000e+01               52            36\n",
       "3    75  2000  1.291933e+08               52            37\n",
       "4  2721  2005  7.591546e+02               52            34"
      ]
     },
     "execution_count": 16,
     "metadata": {},
     "output_type": "execute_result"
    }
   ],
   "source": [
    "df_bgd.head()"
   ]
  },
  {
   "cell_type": "code",
   "execution_count": 17,
   "metadata": {},
   "outputs": [
    {
     "data": {
      "text/plain": [
       "20"
      ]
     },
     "execution_count": 17,
     "metadata": {},
     "output_type": "execute_result"
    }
   ],
   "source": [
    "# nro de registros con las variables completas para Bangladesh\n",
    "df_bgd.shape[0]"
   ]
  },
  {
   "cell_type": "code",
   "execution_count": 18,
   "metadata": {},
   "outputs": [],
   "source": [
    "# indicadores para Eritrea con id 93\n",
    "sql_query =\"select * from yearly_value where country_info_id  = 93 and indicator_id in (34,35,36,37) and year in (select year from yearly_value where country_info_id  = 93 and indicator_id in (34,35,36,37) group by year having count(year)>=4)\"\n",
    "df_eri = pd.read_sql(sql_query, con=engine)"
   ]
  },
  {
   "cell_type": "code",
   "execution_count": 19,
   "metadata": {},
   "outputs": [
    {
     "data": {
      "text/html": [
       "<div>\n",
       "<style scoped>\n",
       "    .dataframe tbody tr th:only-of-type {\n",
       "        vertical-align: middle;\n",
       "    }\n",
       "\n",
       "    .dataframe tbody tr th {\n",
       "        vertical-align: top;\n",
       "    }\n",
       "\n",
       "    .dataframe thead th {\n",
       "        text-align: right;\n",
       "    }\n",
       "</style>\n",
       "<table border=\"1\" class=\"dataframe\">\n",
       "  <thead>\n",
       "    <tr style=\"text-align: right;\">\n",
       "      <th></th>\n",
       "      <th>id</th>\n",
       "      <th>year</th>\n",
       "      <th>value</th>\n",
       "      <th>country_info_id</th>\n",
       "      <th>indicator_id</th>\n",
       "    </tr>\n",
       "  </thead>\n",
       "  <tbody>\n",
       "  </tbody>\n",
       "</table>\n",
       "</div>"
      ],
      "text/plain": [
       "Empty DataFrame\n",
       "Columns: [id, year, value, country_info_id, indicator_id]\n",
       "Index: []"
      ]
     },
     "execution_count": 19,
     "metadata": {},
     "output_type": "execute_result"
    }
   ],
   "source": [
    "df_eri.head()"
   ]
  },
  {
   "cell_type": "code",
   "execution_count": 20,
   "metadata": {},
   "outputs": [
    {
     "data": {
      "text/plain": [
       "0"
      ]
     },
     "execution_count": 20,
     "metadata": {},
     "output_type": "execute_result"
    }
   ],
   "source": [
    "# No hay registros con las variables completas para Eritrea\n",
    "df_eri.shape[0]"
   ]
  },
  {
   "cell_type": "code",
   "execution_count": 21,
   "metadata": {},
   "outputs": [
    {
     "data": {
      "text/html": [
       "<div>\n",
       "<style scoped>\n",
       "    .dataframe tbody tr th:only-of-type {\n",
       "        vertical-align: middle;\n",
       "    }\n",
       "\n",
       "    .dataframe tbody tr th {\n",
       "        vertical-align: top;\n",
       "    }\n",
       "\n",
       "    .dataframe thead th {\n",
       "        text-align: right;\n",
       "    }\n",
       "</style>\n",
       "<table border=\"1\" class=\"dataframe\">\n",
       "  <thead>\n",
       "    <tr style=\"text-align: right;\">\n",
       "      <th></th>\n",
       "      <th>id</th>\n",
       "      <th>year</th>\n",
       "      <th>value</th>\n",
       "      <th>country_info_id</th>\n",
       "      <th>indicator_id</th>\n",
       "    </tr>\n",
       "  </thead>\n",
       "  <tbody>\n",
       "    <tr>\n",
       "      <th>0</th>\n",
       "      <td>787</td>\n",
       "      <td>2001</td>\n",
       "      <td>5.055313e+03</td>\n",
       "      <td>134</td>\n",
       "      <td>34</td>\n",
       "    </tr>\n",
       "    <tr>\n",
       "      <th>1</th>\n",
       "      <td>788</td>\n",
       "      <td>2001</td>\n",
       "      <td>3.600000e+01</td>\n",
       "      <td>134</td>\n",
       "      <td>35</td>\n",
       "    </tr>\n",
       "    <tr>\n",
       "      <th>2</th>\n",
       "      <td>790</td>\n",
       "      <td>2001</td>\n",
       "      <td>1.220000e+01</td>\n",
       "      <td>134</td>\n",
       "      <td>36</td>\n",
       "    </tr>\n",
       "    <tr>\n",
       "      <th>3</th>\n",
       "      <td>789</td>\n",
       "      <td>2001</td>\n",
       "      <td>1.485834e+07</td>\n",
       "      <td>134</td>\n",
       "      <td>37</td>\n",
       "    </tr>\n",
       "    <tr>\n",
       "      <th>4</th>\n",
       "      <td>1302</td>\n",
       "      <td>2002</td>\n",
       "      <td>5.550505e+03</td>\n",
       "      <td>134</td>\n",
       "      <td>34</td>\n",
       "    </tr>\n",
       "  </tbody>\n",
       "</table>\n",
       "</div>"
      ],
      "text/plain": [
       "     id  year         value  country_info_id  indicator_id\n",
       "0   787  2001  5.055313e+03              134            34\n",
       "1   788  2001  3.600000e+01              134            35\n",
       "2   790  2001  1.220000e+01              134            36\n",
       "3   789  2001  1.485834e+07              134            37\n",
       "4  1302  2002  5.550505e+03              134            34"
      ]
     },
     "execution_count": 21,
     "metadata": {},
     "output_type": "execute_result"
    }
   ],
   "source": [
    "# indicadores para Kazakhstan con id 134\n",
    "sql_query =\"select * from yearly_value where country_info_id  = 134 and indicator_id in (34,35,36,37) and year in (select year from yearly_value where country_info_id  = 134 and indicator_id in (34,35,36,37) group by year having count(year)>=4)\"\n",
    "df_kaz = pd.read_sql(sql_query, con=engine)\n",
    "\n",
    "df_kaz.head()"
   ]
  },
  {
   "cell_type": "code",
   "execution_count": 22,
   "metadata": {},
   "outputs": [
    {
     "data": {
      "text/plain": [
       "84"
      ]
     },
     "execution_count": 22,
     "metadata": {},
     "output_type": "execute_result"
    }
   ],
   "source": [
    "# nro de registros con las variables completas para Kazakhstan\n",
    "df_kaz.shape[0]"
   ]
  },
  {
   "cell_type": "code",
   "execution_count": 23,
   "metadata": {},
   "outputs": [
    {
     "data": {
      "text/html": [
       "<div>\n",
       "<style scoped>\n",
       "    .dataframe tbody tr th:only-of-type {\n",
       "        vertical-align: middle;\n",
       "    }\n",
       "\n",
       "    .dataframe tbody tr th {\n",
       "        vertical-align: top;\n",
       "    }\n",
       "\n",
       "    .dataframe thead th {\n",
       "        text-align: right;\n",
       "    }\n",
       "</style>\n",
       "<table border=\"1\" class=\"dataframe\">\n",
       "  <thead>\n",
       "    <tr style=\"text-align: right;\">\n",
       "      <th></th>\n",
       "      <th>id</th>\n",
       "      <th>year</th>\n",
       "      <th>value</th>\n",
       "      <th>country_info_id</th>\n",
       "      <th>indicator_id</th>\n",
       "    </tr>\n",
       "  </thead>\n",
       "  <tbody>\n",
       "  </tbody>\n",
       "</table>\n",
       "</div>"
      ],
      "text/plain": [
       "Empty DataFrame\n",
       "Columns: [id, year, value, country_info_id, indicator_id]\n",
       "Index: []"
      ]
     },
     "execution_count": 23,
     "metadata": {},
     "output_type": "execute_result"
    }
   ],
   "source": [
    "# indicadores para New Caledonia con id 175\n",
    "sql_query =\"select * from yearly_value where country_info_id  = 175 and indicator_id in (34,35,36,37) and year in (select year from yearly_value where country_info_id  = 175 and indicator_id in (34,35,36,37) group by year having count(year)>=4)\"\n",
    "df_ncl = pd.read_sql(sql_query, con=engine)\n",
    "\n",
    "df_ncl.head()"
   ]
  },
  {
   "cell_type": "code",
   "execution_count": 24,
   "metadata": {},
   "outputs": [
    {
     "data": {
      "text/plain": [
       "0"
      ]
     },
     "execution_count": 24,
     "metadata": {},
     "output_type": "execute_result"
    }
   ],
   "source": [
    "# No hay registros con las variables completas para Eritrea\n",
    "df_ncl.shape[0]"
   ]
  },
  {
   "cell_type": "code",
   "execution_count": 27,
   "metadata": {},
   "outputs": [
    {
     "data": {
      "text/html": [
       "<div>\n",
       "<style scoped>\n",
       "    .dataframe tbody tr th:only-of-type {\n",
       "        vertical-align: middle;\n",
       "    }\n",
       "\n",
       "    .dataframe tbody tr th {\n",
       "        vertical-align: top;\n",
       "    }\n",
       "\n",
       "    .dataframe thead th {\n",
       "        text-align: right;\n",
       "    }\n",
       "</style>\n",
       "<table border=\"1\" class=\"dataframe\">\n",
       "  <thead>\n",
       "    <tr style=\"text-align: right;\">\n",
       "      <th></th>\n",
       "      <th>id</th>\n",
       "      <th>year</th>\n",
       "      <th>value</th>\n",
       "      <th>country_info_id</th>\n",
       "      <th>indicator_id</th>\n",
       "    </tr>\n",
       "  </thead>\n",
       "  <tbody>\n",
       "    <tr>\n",
       "      <th>0</th>\n",
       "      <td>2573</td>\n",
       "      <td>2004</td>\n",
       "      <td>1.856756e+04</td>\n",
       "      <td>216</td>\n",
       "      <td>34</td>\n",
       "    </tr>\n",
       "    <tr>\n",
       "      <th>1</th>\n",
       "      <td>2574</td>\n",
       "      <td>2004</td>\n",
       "      <td>2.480000e+01</td>\n",
       "      <td>216</td>\n",
       "      <td>35</td>\n",
       "    </tr>\n",
       "    <tr>\n",
       "      <th>2</th>\n",
       "      <td>2576</td>\n",
       "      <td>2004</td>\n",
       "      <td>1.000000e-01</td>\n",
       "      <td>216</td>\n",
       "      <td>36</td>\n",
       "    </tr>\n",
       "    <tr>\n",
       "      <th>3</th>\n",
       "      <td>2575</td>\n",
       "      <td>2004</td>\n",
       "      <td>1.997012e+06</td>\n",
       "      <td>216</td>\n",
       "      <td>37</td>\n",
       "    </tr>\n",
       "    <tr>\n",
       "      <th>4</th>\n",
       "      <td>3142</td>\n",
       "      <td>2005</td>\n",
       "      <td>1.923940e+04</td>\n",
       "      <td>216</td>\n",
       "      <td>34</td>\n",
       "    </tr>\n",
       "  </tbody>\n",
       "</table>\n",
       "</div>"
      ],
      "text/plain": [
       "     id  year         value  country_info_id  indicator_id\n",
       "0  2573  2004  1.856756e+04              216            34\n",
       "1  2574  2004  2.480000e+01              216            35\n",
       "2  2576  2004  1.000000e-01              216            36\n",
       "3  2575  2004  1.997012e+06              216            37\n",
       "4  3142  2005  1.923940e+04              216            34"
      ]
     },
     "execution_count": 27,
     "metadata": {},
     "output_type": "execute_result"
    }
   ],
   "source": [
    "# indicadores para Slovenia con id 216\n",
    "sql_query =\"select * from yearly_value where country_info_id  = 216 and indicator_id in (34,35,36,37) and year in (select year from yearly_value where country_info_id  = 216 and indicator_id in (34,35,36,37) group by year having count(year)>=4)\"\n",
    "df_svn = pd.read_sql(sql_query, con=engine)\n",
    "\n",
    "df_svn.head()"
   ]
  },
  {
   "cell_type": "code",
   "execution_count": 28,
   "metadata": {},
   "outputs": [
    {
     "data": {
      "text/plain": [
       "72"
      ]
     },
     "execution_count": 28,
     "metadata": {},
     "output_type": "execute_result"
    }
   ],
   "source": [
    "# nro de registros con las variables completas para Kazakhstan\n",
    "df_svn.shape[0]"
   ]
  },
  {
   "cell_type": "code",
   "execution_count": 29,
   "metadata": {},
   "outputs": [],
   "source": [
    "# Uniendo los dataframes con las variables completas\n",
    "df_procesar = pd.concat([df_bgd,df_kaz,df_svn], axis=0)\n"
   ]
  },
  {
   "cell_type": "code",
   "execution_count": 30,
   "metadata": {},
   "outputs": [
    {
     "data": {
      "text/html": [
       "<div>\n",
       "<style scoped>\n",
       "    .dataframe tbody tr th:only-of-type {\n",
       "        vertical-align: middle;\n",
       "    }\n",
       "\n",
       "    .dataframe tbody tr th {\n",
       "        vertical-align: top;\n",
       "    }\n",
       "\n",
       "    .dataframe thead th {\n",
       "        text-align: right;\n",
       "    }\n",
       "</style>\n",
       "<table border=\"1\" class=\"dataframe\">\n",
       "  <thead>\n",
       "    <tr style=\"text-align: right;\">\n",
       "      <th></th>\n",
       "      <th>id</th>\n",
       "      <th>year</th>\n",
       "      <th>value</th>\n",
       "      <th>country_info_id</th>\n",
       "      <th>indicator_id</th>\n",
       "    </tr>\n",
       "  </thead>\n",
       "  <tbody>\n",
       "    <tr>\n",
       "      <th>0</th>\n",
       "      <td>73</td>\n",
       "      <td>2000</td>\n",
       "      <td>6.462631e+02</td>\n",
       "      <td>52</td>\n",
       "      <td>34</td>\n",
       "    </tr>\n",
       "    <tr>\n",
       "      <th>1</th>\n",
       "      <td>74</td>\n",
       "      <td>2000</td>\n",
       "      <td>3.340000e+01</td>\n",
       "      <td>52</td>\n",
       "      <td>35</td>\n",
       "    </tr>\n",
       "    <tr>\n",
       "      <th>2</th>\n",
       "      <td>76</td>\n",
       "      <td>2000</td>\n",
       "      <td>2.700000e+01</td>\n",
       "      <td>52</td>\n",
       "      <td>36</td>\n",
       "    </tr>\n",
       "    <tr>\n",
       "      <th>3</th>\n",
       "      <td>75</td>\n",
       "      <td>2000</td>\n",
       "      <td>1.291933e+08</td>\n",
       "      <td>52</td>\n",
       "      <td>37</td>\n",
       "    </tr>\n",
       "    <tr>\n",
       "      <th>4</th>\n",
       "      <td>2721</td>\n",
       "      <td>2005</td>\n",
       "      <td>7.591546e+02</td>\n",
       "      <td>52</td>\n",
       "      <td>34</td>\n",
       "    </tr>\n",
       "    <tr>\n",
       "      <th>...</th>\n",
       "      <td>...</td>\n",
       "      <td>...</td>\n",
       "      <td>...</td>\n",
       "      <td>...</td>\n",
       "      <td>...</td>\n",
       "    </tr>\n",
       "    <tr>\n",
       "      <th>67</th>\n",
       "      <td>11856</td>\n",
       "      <td>2020</td>\n",
       "      <td>2.102419e+06</td>\n",
       "      <td>216</td>\n",
       "      <td>37</td>\n",
       "    </tr>\n",
       "    <tr>\n",
       "      <th>68</th>\n",
       "      <td>12413</td>\n",
       "      <td>2021</td>\n",
       "      <td>2.478679e+04</td>\n",
       "      <td>216</td>\n",
       "      <td>34</td>\n",
       "    </tr>\n",
       "    <tr>\n",
       "      <th>69</th>\n",
       "      <td>12414</td>\n",
       "      <td>2021</td>\n",
       "      <td>2.430000e+01</td>\n",
       "      <td>216</td>\n",
       "      <td>35</td>\n",
       "    </tr>\n",
       "    <tr>\n",
       "      <th>70</th>\n",
       "      <td>12416</td>\n",
       "      <td>2021</td>\n",
       "      <td>0.000000e+00</td>\n",
       "      <td>216</td>\n",
       "      <td>36</td>\n",
       "    </tr>\n",
       "    <tr>\n",
       "      <th>71</th>\n",
       "      <td>12415</td>\n",
       "      <td>2021</td>\n",
       "      <td>2.108079e+06</td>\n",
       "      <td>216</td>\n",
       "      <td>37</td>\n",
       "    </tr>\n",
       "  </tbody>\n",
       "</table>\n",
       "<p>176 rows × 5 columns</p>\n",
       "</div>"
      ],
      "text/plain": [
       "       id  year         value  country_info_id  indicator_id\n",
       "0      73  2000  6.462631e+02               52            34\n",
       "1      74  2000  3.340000e+01               52            35\n",
       "2      76  2000  2.700000e+01               52            36\n",
       "3      75  2000  1.291933e+08               52            37\n",
       "4    2721  2005  7.591546e+02               52            34\n",
       "..    ...   ...           ...              ...           ...\n",
       "67  11856  2020  2.102419e+06              216            37\n",
       "68  12413  2021  2.478679e+04              216            34\n",
       "69  12414  2021  2.430000e+01              216            35\n",
       "70  12416  2021  0.000000e+00              216            36\n",
       "71  12415  2021  2.108079e+06              216            37\n",
       "\n",
       "[176 rows x 5 columns]"
      ]
     },
     "execution_count": 30,
     "metadata": {},
     "output_type": "execute_result"
    }
   ],
   "source": [
    "df_procesar"
   ]
  },
  {
   "attachments": {},
   "cell_type": "markdown",
   "metadata": {},
   "source": [
    "#### Proceso para agrupar y acomodar los campos de indicadores => en una sola fila para cada pais año e indicadores"
   ]
  },
  {
   "cell_type": "code",
   "execution_count": 31,
   "metadata": {},
   "outputs": [
    {
     "data": {
      "text/html": [
       "<div>\n",
       "<style scoped>\n",
       "    .dataframe tbody tr th:only-of-type {\n",
       "        vertical-align: middle;\n",
       "    }\n",
       "\n",
       "    .dataframe tbody tr th {\n",
       "        vertical-align: top;\n",
       "    }\n",
       "\n",
       "    .dataframe thead th {\n",
       "        text-align: right;\n",
       "    }\n",
       "</style>\n",
       "<table border=\"1\" class=\"dataframe\">\n",
       "  <thead>\n",
       "    <tr style=\"text-align: right;\">\n",
       "      <th></th>\n",
       "      <th>id</th>\n",
       "      <th>year</th>\n",
       "      <th>value</th>\n",
       "      <th>country_info_id</th>\n",
       "      <th>indicator_id</th>\n",
       "      <th>indicador_parametro</th>\n",
       "    </tr>\n",
       "  </thead>\n",
       "  <tbody>\n",
       "    <tr>\n",
       "      <th>67</th>\n",
       "      <td>11856</td>\n",
       "      <td>2020</td>\n",
       "      <td>2.102419e+06</td>\n",
       "      <td>216</td>\n",
       "      <td>37</td>\n",
       "      <td>param_P</td>\n",
       "    </tr>\n",
       "    <tr>\n",
       "      <th>68</th>\n",
       "      <td>12413</td>\n",
       "      <td>2021</td>\n",
       "      <td>2.478679e+04</td>\n",
       "      <td>216</td>\n",
       "      <td>34</td>\n",
       "      <td>param_Y</td>\n",
       "    </tr>\n",
       "    <tr>\n",
       "      <th>69</th>\n",
       "      <td>12414</td>\n",
       "      <td>2021</td>\n",
       "      <td>2.430000e+01</td>\n",
       "      <td>216</td>\n",
       "      <td>35</td>\n",
       "      <td>param_G</td>\n",
       "    </tr>\n",
       "    <tr>\n",
       "      <th>70</th>\n",
       "      <td>12416</td>\n",
       "      <td>2021</td>\n",
       "      <td>0.000000e+00</td>\n",
       "      <td>216</td>\n",
       "      <td>36</td>\n",
       "      <td>param_pow</td>\n",
       "    </tr>\n",
       "    <tr>\n",
       "      <th>71</th>\n",
       "      <td>12415</td>\n",
       "      <td>2021</td>\n",
       "      <td>2.108079e+06</td>\n",
       "      <td>216</td>\n",
       "      <td>37</td>\n",
       "      <td>param_P</td>\n",
       "    </tr>\n",
       "  </tbody>\n",
       "</table>\n",
       "</div>"
      ],
      "text/plain": [
       "       id  year         value  country_info_id  indicator_id  \\\n",
       "67  11856  2020  2.102419e+06              216            37   \n",
       "68  12413  2021  2.478679e+04              216            34   \n",
       "69  12414  2021  2.430000e+01              216            35   \n",
       "70  12416  2021  0.000000e+00              216            36   \n",
       "71  12415  2021  2.108079e+06              216            37   \n",
       "\n",
       "   indicador_parametro  \n",
       "67             param_P  \n",
       "68             param_Y  \n",
       "69             param_G  \n",
       "70           param_pow  \n",
       "71             param_P  "
      ]
     },
     "execution_count": 31,
     "metadata": {},
     "output_type": "execute_result"
    }
   ],
   "source": [
    "# creando una columna con los nombres de los parametros\n",
    "df_procesar['indicador_parametro'] = df_procesar['indicator_id'].map({34:'param_Y',35:'param_G',36:'param_pow',37:'param_P'})\n",
    "df_procesar.tail()"
   ]
  },
  {
   "cell_type": "code",
   "execution_count": 32,
   "metadata": {},
   "outputs": [
    {
     "data": {
      "text/html": [
       "<div>\n",
       "<style scoped>\n",
       "    .dataframe tbody tr th:only-of-type {\n",
       "        vertical-align: middle;\n",
       "    }\n",
       "\n",
       "    .dataframe tbody tr th {\n",
       "        vertical-align: top;\n",
       "    }\n",
       "\n",
       "    .dataframe thead th {\n",
       "        text-align: right;\n",
       "    }\n",
       "</style>\n",
       "<table border=\"1\" class=\"dataframe\">\n",
       "  <thead>\n",
       "    <tr style=\"text-align: right;\">\n",
       "      <th></th>\n",
       "      <th>id</th>\n",
       "      <th>country_info_id</th>\n",
       "      <th>year</th>\n",
       "      <th>indicador_parametro</th>\n",
       "      <th>value</th>\n",
       "    </tr>\n",
       "  </thead>\n",
       "  <tbody>\n",
       "    <tr>\n",
       "      <th>0</th>\n",
       "      <td>73</td>\n",
       "      <td>52</td>\n",
       "      <td>2000</td>\n",
       "      <td>param_Y</td>\n",
       "      <td>6.462631e+02</td>\n",
       "    </tr>\n",
       "    <tr>\n",
       "      <th>1</th>\n",
       "      <td>74</td>\n",
       "      <td>52</td>\n",
       "      <td>2000</td>\n",
       "      <td>param_G</td>\n",
       "      <td>3.340000e+01</td>\n",
       "    </tr>\n",
       "    <tr>\n",
       "      <th>2</th>\n",
       "      <td>76</td>\n",
       "      <td>52</td>\n",
       "      <td>2000</td>\n",
       "      <td>param_pow</td>\n",
       "      <td>2.700000e+01</td>\n",
       "    </tr>\n",
       "    <tr>\n",
       "      <th>3</th>\n",
       "      <td>75</td>\n",
       "      <td>52</td>\n",
       "      <td>2000</td>\n",
       "      <td>param_P</td>\n",
       "      <td>1.291933e+08</td>\n",
       "    </tr>\n",
       "    <tr>\n",
       "      <th>4</th>\n",
       "      <td>2721</td>\n",
       "      <td>52</td>\n",
       "      <td>2005</td>\n",
       "      <td>param_Y</td>\n",
       "      <td>7.591546e+02</td>\n",
       "    </tr>\n",
       "  </tbody>\n",
       "</table>\n",
       "</div>"
      ],
      "text/plain": [
       "     id  country_info_id  year indicador_parametro         value\n",
       "0    73               52  2000             param_Y  6.462631e+02\n",
       "1    74               52  2000             param_G  3.340000e+01\n",
       "2    76               52  2000           param_pow  2.700000e+01\n",
       "3    75               52  2000             param_P  1.291933e+08\n",
       "4  2721               52  2005             param_Y  7.591546e+02"
      ]
     },
     "execution_count": 32,
     "metadata": {},
     "output_type": "execute_result"
    }
   ],
   "source": [
    "# Definiendo nuevo df auxiliar\n",
    "df_procesar_aux = df_procesar[['id','country_info_id','year','indicador_parametro','value']]\n",
    "\n",
    "\n",
    "df_procesar_aux.head()"
   ]
  },
  {
   "cell_type": "code",
   "execution_count": 33,
   "metadata": {},
   "outputs": [
    {
     "data": {
      "text/plain": [
       "(176, 5)"
      ]
     },
     "execution_count": 33,
     "metadata": {},
     "output_type": "execute_result"
    }
   ],
   "source": [
    "df_procesar_aux.shape"
   ]
  },
  {
   "cell_type": "code",
   "execution_count": 39,
   "metadata": {},
   "outputs": [
    {
     "data": {
      "text/html": [
       "<div>\n",
       "<style scoped>\n",
       "    .dataframe tbody tr th:only-of-type {\n",
       "        vertical-align: middle;\n",
       "    }\n",
       "\n",
       "    .dataframe tbody tr th {\n",
       "        vertical-align: top;\n",
       "    }\n",
       "\n",
       "    .dataframe thead th {\n",
       "        text-align: right;\n",
       "    }\n",
       "</style>\n",
       "<table border=\"1\" class=\"dataframe\">\n",
       "  <thead>\n",
       "    <tr style=\"text-align: right;\">\n",
       "      <th></th>\n",
       "      <th>indicador_parametro</th>\n",
       "      <th>param_G</th>\n",
       "      <th>param_P</th>\n",
       "      <th>param_Y</th>\n",
       "      <th>param_pow</th>\n",
       "    </tr>\n",
       "    <tr>\n",
       "      <th>country_info_id</th>\n",
       "      <th>year</th>\n",
       "      <th></th>\n",
       "      <th></th>\n",
       "      <th></th>\n",
       "      <th></th>\n",
       "    </tr>\n",
       "  </thead>\n",
       "  <tbody>\n",
       "    <tr>\n",
       "      <th rowspan=\"5\" valign=\"top\">52</th>\n",
       "      <th>2000</th>\n",
       "      <td>33.4</td>\n",
       "      <td>129193327.0</td>\n",
       "      <td>646.263073</td>\n",
       "      <td>27.0</td>\n",
       "    </tr>\n",
       "    <tr>\n",
       "      <th>2005</th>\n",
       "      <td>33.2</td>\n",
       "      <td>140912590.0</td>\n",
       "      <td>759.154640</td>\n",
       "      <td>22.0</td>\n",
       "    </tr>\n",
       "    <tr>\n",
       "      <th>2010</th>\n",
       "      <td>32.1</td>\n",
       "      <td>148391139.0</td>\n",
       "      <td>967.898523</td>\n",
       "      <td>18.3</td>\n",
       "    </tr>\n",
       "    <tr>\n",
       "      <th>2016</th>\n",
       "      <td>32.4</td>\n",
       "      <td>159784568.0</td>\n",
       "      <td>1308.188406</td>\n",
       "      <td>15.0</td>\n",
       "    </tr>\n",
       "    <tr>\n",
       "      <th>2022</th>\n",
       "      <td>33.4</td>\n",
       "      <td>171186372.0</td>\n",
       "      <td>1785.361317</td>\n",
       "      <td>7.3</td>\n",
       "    </tr>\n",
       "  </tbody>\n",
       "</table>\n",
       "</div>"
      ],
      "text/plain": [
       "indicador_parametro   param_G      param_P      param_Y  param_pow\n",
       "country_info_id year                                              \n",
       "52              2000     33.4  129193327.0   646.263073       27.0\n",
       "                2005     33.2  140912590.0   759.154640       22.0\n",
       "                2010     32.1  148391139.0   967.898523       18.3\n",
       "                2016     32.4  159784568.0  1308.188406       15.0\n",
       "                2022     33.4  171186372.0  1785.361317        7.3"
      ]
     },
     "execution_count": 39,
     "metadata": {},
     "output_type": "execute_result"
    }
   ],
   "source": [
    "# Aplicando el piot\n",
    "# Agrupando las filas por cod_pais, año y sus indicadores\n",
    "df_agrupado = df_procesar_aux.pivot(index=['country_info_id', 'year'],columns='indicador_parametro', values='value')\n",
    "\n",
    "df_agrupado.head()\n"
   ]
  },
  {
   "cell_type": "code",
   "execution_count": 40,
   "metadata": {},
   "outputs": [],
   "source": [
    "# cambiando actualizando nombre column\n",
    "df_agrupado = df_agrupado.reset_index(level=[0,1])"
   ]
  },
  {
   "cell_type": "code",
   "execution_count": 42,
   "metadata": {},
   "outputs": [
    {
     "data": {
      "text/html": [
       "<div>\n",
       "<style scoped>\n",
       "    .dataframe tbody tr th:only-of-type {\n",
       "        vertical-align: middle;\n",
       "    }\n",
       "\n",
       "    .dataframe tbody tr th {\n",
       "        vertical-align: top;\n",
       "    }\n",
       "\n",
       "    .dataframe thead th {\n",
       "        text-align: right;\n",
       "    }\n",
       "</style>\n",
       "<table border=\"1\" class=\"dataframe\">\n",
       "  <thead>\n",
       "    <tr style=\"text-align: right;\">\n",
       "      <th>indicador_parametro</th>\n",
       "      <th>country_info_id</th>\n",
       "      <th>year</th>\n",
       "      <th>param_G</th>\n",
       "      <th>param_P</th>\n",
       "      <th>param_Y</th>\n",
       "      <th>param_pow</th>\n",
       "    </tr>\n",
       "  </thead>\n",
       "  <tbody>\n",
       "    <tr>\n",
       "      <th>0</th>\n",
       "      <td>52</td>\n",
       "      <td>2000</td>\n",
       "      <td>33.4</td>\n",
       "      <td>129193327.0</td>\n",
       "      <td>646.263073</td>\n",
       "      <td>27.0</td>\n",
       "    </tr>\n",
       "    <tr>\n",
       "      <th>1</th>\n",
       "      <td>52</td>\n",
       "      <td>2005</td>\n",
       "      <td>33.2</td>\n",
       "      <td>140912590.0</td>\n",
       "      <td>759.154640</td>\n",
       "      <td>22.0</td>\n",
       "    </tr>\n",
       "    <tr>\n",
       "      <th>2</th>\n",
       "      <td>52</td>\n",
       "      <td>2010</td>\n",
       "      <td>32.1</td>\n",
       "      <td>148391139.0</td>\n",
       "      <td>967.898523</td>\n",
       "      <td>18.3</td>\n",
       "    </tr>\n",
       "    <tr>\n",
       "      <th>3</th>\n",
       "      <td>52</td>\n",
       "      <td>2016</td>\n",
       "      <td>32.4</td>\n",
       "      <td>159784568.0</td>\n",
       "      <td>1308.188406</td>\n",
       "      <td>15.0</td>\n",
       "    </tr>\n",
       "    <tr>\n",
       "      <th>4</th>\n",
       "      <td>52</td>\n",
       "      <td>2022</td>\n",
       "      <td>33.4</td>\n",
       "      <td>171186372.0</td>\n",
       "      <td>1785.361317</td>\n",
       "      <td>7.3</td>\n",
       "    </tr>\n",
       "  </tbody>\n",
       "</table>\n",
       "</div>"
      ],
      "text/plain": [
       "indicador_parametro  country_info_id  year  param_G      param_P      param_Y  \\\n",
       "0                                 52  2000     33.4  129193327.0   646.263073   \n",
       "1                                 52  2005     33.2  140912590.0   759.154640   \n",
       "2                                 52  2010     32.1  148391139.0   967.898523   \n",
       "3                                 52  2016     32.4  159784568.0  1308.188406   \n",
       "4                                 52  2022     33.4  171186372.0  1785.361317   \n",
       "\n",
       "indicador_parametro  param_pow  \n",
       "0                         27.0  \n",
       "1                         22.0  \n",
       "2                         18.3  \n",
       "3                         15.0  \n",
       "4                          7.3  "
      ]
     },
     "execution_count": 42,
     "metadata": {},
     "output_type": "execute_result"
    }
   ],
   "source": [
    "df_agrupado.head()"
   ]
  },
  {
   "cell_type": "code",
   "execution_count": 43,
   "metadata": {},
   "outputs": [
    {
     "name": "stdout",
     "output_type": "stream",
     "text": [
      "<class 'pandas.core.frame.DataFrame'>\n",
      "RangeIndex: 44 entries, 0 to 43\n",
      "Data columns (total 6 columns):\n",
      " #   Column           Non-Null Count  Dtype  \n",
      "---  ------           --------------  -----  \n",
      " 0   country_info_id  44 non-null     int64  \n",
      " 1   year             44 non-null     int64  \n",
      " 2   param_G          44 non-null     float64\n",
      " 3   param_P          44 non-null     float64\n",
      " 4   param_Y          44 non-null     float64\n",
      " 5   param_pow        44 non-null     float64\n",
      "dtypes: float64(4), int64(2)\n",
      "memory usage: 2.2 KB\n"
     ]
    }
   ],
   "source": [
    "# tipo de datos del df\n",
    "df_agrupado.info()"
   ]
  },
  {
   "cell_type": "code",
   "execution_count": 44,
   "metadata": {},
   "outputs": [
    {
     "data": {
      "text/html": [
       "<div>\n",
       "<style scoped>\n",
       "    .dataframe tbody tr th:only-of-type {\n",
       "        vertical-align: middle;\n",
       "    }\n",
       "\n",
       "    .dataframe tbody tr th {\n",
       "        vertical-align: top;\n",
       "    }\n",
       "\n",
       "    .dataframe thead th {\n",
       "        text-align: right;\n",
       "    }\n",
       "</style>\n",
       "<table border=\"1\" class=\"dataframe\">\n",
       "  <thead>\n",
       "    <tr style=\"text-align: right;\">\n",
       "      <th>indicador_parametro</th>\n",
       "      <th>country_info_id</th>\n",
       "      <th>year</th>\n",
       "      <th>param_G</th>\n",
       "      <th>param_P</th>\n",
       "      <th>param_Y</th>\n",
       "      <th>param_pow</th>\n",
       "      <th>IPS</th>\n",
       "    </tr>\n",
       "  </thead>\n",
       "  <tbody>\n",
       "    <tr>\n",
       "      <th>0</th>\n",
       "      <td>52</td>\n",
       "      <td>2000</td>\n",
       "      <td>33.4</td>\n",
       "      <td>129193327.0</td>\n",
       "      <td>646.263073</td>\n",
       "      <td>27.0</td>\n",
       "      <td>0.004214</td>\n",
       "    </tr>\n",
       "    <tr>\n",
       "      <th>1</th>\n",
       "      <td>52</td>\n",
       "      <td>2005</td>\n",
       "      <td>33.2</td>\n",
       "      <td>140912590.0</td>\n",
       "      <td>759.154640</td>\n",
       "      <td>22.0</td>\n",
       "      <td>0.003643</td>\n",
       "    </tr>\n",
       "    <tr>\n",
       "      <th>2</th>\n",
       "      <td>52</td>\n",
       "      <td>2010</td>\n",
       "      <td>32.1</td>\n",
       "      <td>148391139.0</td>\n",
       "      <td>967.898523</td>\n",
       "      <td>18.3</td>\n",
       "      <td>0.003509</td>\n",
       "    </tr>\n",
       "    <tr>\n",
       "      <th>3</th>\n",
       "      <td>52</td>\n",
       "      <td>2016</td>\n",
       "      <td>32.4</td>\n",
       "      <td>159784568.0</td>\n",
       "      <td>1308.188406</td>\n",
       "      <td>15.0</td>\n",
       "      <td>0.003599</td>\n",
       "    </tr>\n",
       "    <tr>\n",
       "      <th>4</th>\n",
       "      <td>52</td>\n",
       "      <td>2022</td>\n",
       "      <td>33.4</td>\n",
       "      <td>171186372.0</td>\n",
       "      <td>1785.361317</td>\n",
       "      <td>7.3</td>\n",
       "      <td>0.002129</td>\n",
       "    </tr>\n",
       "  </tbody>\n",
       "</table>\n",
       "</div>"
      ],
      "text/plain": [
       "indicador_parametro  country_info_id  year  param_G      param_P      param_Y  \\\n",
       "0                                 52  2000     33.4  129193327.0   646.263073   \n",
       "1                                 52  2005     33.2  140912590.0   759.154640   \n",
       "2                                 52  2010     32.1  148391139.0   967.898523   \n",
       "3                                 52  2016     32.4  159784568.0  1308.188406   \n",
       "4                                 52  2022     33.4  171186372.0  1785.361317   \n",
       "\n",
       "indicador_parametro  param_pow       IPS  \n",
       "0                         27.0  0.004214  \n",
       "1                         22.0  0.003643  \n",
       "2                         18.3  0.003509  \n",
       "3                         15.0  0.003599  \n",
       "4                          7.3  0.002129  "
      ]
     },
     "execution_count": 44,
     "metadata": {},
     "output_type": "execute_result"
    }
   ],
   "source": [
    "# Obteniendo el indice de prosperidad en un nuevo campo \"IPS\"\n",
    "df_agrupado['IPS']=(df_agrupado['param_Y']/df_agrupado['param_P'])*(1-df_agrupado['param_G'])*(1-df_agrupado['param_pow'])\n",
    "df_agrupado.head()"
   ]
  },
  {
   "cell_type": "code",
   "execution_count": 45,
   "metadata": {},
   "outputs": [
    {
     "data": {
      "text/html": [
       "<div>\n",
       "<style scoped>\n",
       "    .dataframe tbody tr th:only-of-type {\n",
       "        vertical-align: middle;\n",
       "    }\n",
       "\n",
       "    .dataframe tbody tr th {\n",
       "        vertical-align: top;\n",
       "    }\n",
       "\n",
       "    .dataframe thead th {\n",
       "        text-align: right;\n",
       "    }\n",
       "</style>\n",
       "<table border=\"1\" class=\"dataframe\">\n",
       "  <thead>\n",
       "    <tr style=\"text-align: right;\">\n",
       "      <th>indicador_parametro</th>\n",
       "      <th>country_info_id</th>\n",
       "      <th>year</th>\n",
       "      <th>param_G</th>\n",
       "      <th>param_P</th>\n",
       "      <th>param_Y</th>\n",
       "      <th>param_pow</th>\n",
       "      <th>IPS</th>\n",
       "    </tr>\n",
       "  </thead>\n",
       "  <tbody>\n",
       "    <tr>\n",
       "      <th>0</th>\n",
       "      <td>52</td>\n",
       "      <td>2000</td>\n",
       "      <td>33.4</td>\n",
       "      <td>129193327.0</td>\n",
       "      <td>646.263073</td>\n",
       "      <td>27.0</td>\n",
       "      <td>0.00421</td>\n",
       "    </tr>\n",
       "    <tr>\n",
       "      <th>1</th>\n",
       "      <td>52</td>\n",
       "      <td>2005</td>\n",
       "      <td>33.2</td>\n",
       "      <td>140912590.0</td>\n",
       "      <td>759.154640</td>\n",
       "      <td>22.0</td>\n",
       "      <td>0.00364</td>\n",
       "    </tr>\n",
       "    <tr>\n",
       "      <th>2</th>\n",
       "      <td>52</td>\n",
       "      <td>2010</td>\n",
       "      <td>32.1</td>\n",
       "      <td>148391139.0</td>\n",
       "      <td>967.898523</td>\n",
       "      <td>18.3</td>\n",
       "      <td>0.00351</td>\n",
       "    </tr>\n",
       "    <tr>\n",
       "      <th>3</th>\n",
       "      <td>52</td>\n",
       "      <td>2016</td>\n",
       "      <td>32.4</td>\n",
       "      <td>159784568.0</td>\n",
       "      <td>1308.188406</td>\n",
       "      <td>15.0</td>\n",
       "      <td>0.00360</td>\n",
       "    </tr>\n",
       "    <tr>\n",
       "      <th>4</th>\n",
       "      <td>52</td>\n",
       "      <td>2022</td>\n",
       "      <td>33.4</td>\n",
       "      <td>171186372.0</td>\n",
       "      <td>1785.361317</td>\n",
       "      <td>7.3</td>\n",
       "      <td>0.00213</td>\n",
       "    </tr>\n",
       "  </tbody>\n",
       "</table>\n",
       "</div>"
      ],
      "text/plain": [
       "indicador_parametro  country_info_id  year  param_G      param_P      param_Y  \\\n",
       "0                                 52  2000     33.4  129193327.0   646.263073   \n",
       "1                                 52  2005     33.2  140912590.0   759.154640   \n",
       "2                                 52  2010     32.1  148391139.0   967.898523   \n",
       "3                                 52  2016     32.4  159784568.0  1308.188406   \n",
       "4                                 52  2022     33.4  171186372.0  1785.361317   \n",
       "\n",
       "indicador_parametro  param_pow      IPS  \n",
       "0                         27.0  0.00421  \n",
       "1                         22.0  0.00364  \n",
       "2                         18.3  0.00351  \n",
       "3                         15.0  0.00360  \n",
       "4                          7.3  0.00213  "
      ]
     },
     "execution_count": 45,
     "metadata": {},
     "output_type": "execute_result"
    }
   ],
   "source": [
    "# redondeando a 5 decimales el resultado final\n",
    "df_agrupado['IPS'] = pd.Series([round(val,5) for val in df_agrupado['IPS']])\n",
    "df_agrupado.head()"
   ]
  },
  {
   "attachments": {},
   "cell_type": "markdown",
   "metadata": {},
   "source": [
    "#### Adicionando las columnas del user asignado y nombre de los paises"
   ]
  },
  {
   "cell_type": "code",
   "execution_count": 47,
   "metadata": {},
   "outputs": [
    {
     "data": {
      "text/html": [
       "<div>\n",
       "<style scoped>\n",
       "    .dataframe tbody tr th:only-of-type {\n",
       "        vertical-align: middle;\n",
       "    }\n",
       "\n",
       "    .dataframe tbody tr th {\n",
       "        vertical-align: top;\n",
       "    }\n",
       "\n",
       "    .dataframe thead th {\n",
       "        text-align: right;\n",
       "    }\n",
       "</style>\n",
       "<table border=\"1\" class=\"dataframe\">\n",
       "  <thead>\n",
       "    <tr style=\"text-align: right;\">\n",
       "      <th>indicador_parametro</th>\n",
       "      <th>country_info_id</th>\n",
       "      <th>year</th>\n",
       "      <th>param_G</th>\n",
       "      <th>param_P</th>\n",
       "      <th>param_Y</th>\n",
       "      <th>param_pow</th>\n",
       "      <th>IPS</th>\n",
       "      <th>usuario</th>\n",
       "    </tr>\n",
       "  </thead>\n",
       "  <tbody>\n",
       "    <tr>\n",
       "      <th>0</th>\n",
       "      <td>52</td>\n",
       "      <td>2000</td>\n",
       "      <td>33.4</td>\n",
       "      <td>129193327.0</td>\n",
       "      <td>646.263073</td>\n",
       "      <td>27.0</td>\n",
       "      <td>0.00421</td>\n",
       "      <td>4243879</td>\n",
       "    </tr>\n",
       "    <tr>\n",
       "      <th>1</th>\n",
       "      <td>52</td>\n",
       "      <td>2005</td>\n",
       "      <td>33.2</td>\n",
       "      <td>140912590.0</td>\n",
       "      <td>759.154640</td>\n",
       "      <td>22.0</td>\n",
       "      <td>0.00364</td>\n",
       "      <td>4243879</td>\n",
       "    </tr>\n",
       "    <tr>\n",
       "      <th>2</th>\n",
       "      <td>52</td>\n",
       "      <td>2010</td>\n",
       "      <td>32.1</td>\n",
       "      <td>148391139.0</td>\n",
       "      <td>967.898523</td>\n",
       "      <td>18.3</td>\n",
       "      <td>0.00351</td>\n",
       "      <td>4243879</td>\n",
       "    </tr>\n",
       "    <tr>\n",
       "      <th>3</th>\n",
       "      <td>52</td>\n",
       "      <td>2016</td>\n",
       "      <td>32.4</td>\n",
       "      <td>159784568.0</td>\n",
       "      <td>1308.188406</td>\n",
       "      <td>15.0</td>\n",
       "      <td>0.00360</td>\n",
       "      <td>4243879</td>\n",
       "    </tr>\n",
       "    <tr>\n",
       "      <th>4</th>\n",
       "      <td>52</td>\n",
       "      <td>2022</td>\n",
       "      <td>33.4</td>\n",
       "      <td>171186372.0</td>\n",
       "      <td>1785.361317</td>\n",
       "      <td>7.3</td>\n",
       "      <td>0.00213</td>\n",
       "      <td>4243879</td>\n",
       "    </tr>\n",
       "  </tbody>\n",
       "</table>\n",
       "</div>"
      ],
      "text/plain": [
       "indicador_parametro  country_info_id  year  param_G      param_P      param_Y  \\\n",
       "0                                 52  2000     33.4  129193327.0   646.263073   \n",
       "1                                 52  2005     33.2  140912590.0   759.154640   \n",
       "2                                 52  2010     32.1  148391139.0   967.898523   \n",
       "3                                 52  2016     32.4  159784568.0  1308.188406   \n",
       "4                                 52  2022     33.4  171186372.0  1785.361317   \n",
       "\n",
       "indicador_parametro  param_pow      IPS  usuario  \n",
       "0                         27.0  0.00421  4243879  \n",
       "1                         22.0  0.00364  4243879  \n",
       "2                         18.3  0.00351  4243879  \n",
       "3                         15.0  0.00360  4243879  \n",
       "4                          7.3  0.00213  4243879  "
      ]
     },
     "execution_count": 47,
     "metadata": {},
     "output_type": "execute_result"
    }
   ],
   "source": [
    "df_agrupado['usuario']='4243879'\n",
    "df_agrupado.head()"
   ]
  },
  {
   "cell_type": "code",
   "execution_count": 48,
   "metadata": {},
   "outputs": [
    {
     "data": {
      "text/html": [
       "<div>\n",
       "<style scoped>\n",
       "    .dataframe tbody tr th:only-of-type {\n",
       "        vertical-align: middle;\n",
       "    }\n",
       "\n",
       "    .dataframe tbody tr th {\n",
       "        vertical-align: top;\n",
       "    }\n",
       "\n",
       "    .dataframe thead th {\n",
       "        text-align: right;\n",
       "    }\n",
       "</style>\n",
       "<table border=\"1\" class=\"dataframe\">\n",
       "  <thead>\n",
       "    <tr style=\"text-align: right;\">\n",
       "      <th>indicador_parametro</th>\n",
       "      <th>country_info_id</th>\n",
       "      <th>year</th>\n",
       "      <th>param_G</th>\n",
       "      <th>param_P</th>\n",
       "      <th>param_Y</th>\n",
       "      <th>param_pow</th>\n",
       "      <th>IPS</th>\n",
       "      <th>usuario</th>\n",
       "      <th>pais_asignado</th>\n",
       "    </tr>\n",
       "  </thead>\n",
       "  <tbody>\n",
       "    <tr>\n",
       "      <th>0</th>\n",
       "      <td>52</td>\n",
       "      <td>2000</td>\n",
       "      <td>33.4</td>\n",
       "      <td>129193327.0</td>\n",
       "      <td>646.263073</td>\n",
       "      <td>27.0</td>\n",
       "      <td>0.00421</td>\n",
       "      <td>4243879</td>\n",
       "      <td>Bangladesh</td>\n",
       "    </tr>\n",
       "    <tr>\n",
       "      <th>1</th>\n",
       "      <td>52</td>\n",
       "      <td>2005</td>\n",
       "      <td>33.2</td>\n",
       "      <td>140912590.0</td>\n",
       "      <td>759.154640</td>\n",
       "      <td>22.0</td>\n",
       "      <td>0.00364</td>\n",
       "      <td>4243879</td>\n",
       "      <td>Bangladesh</td>\n",
       "    </tr>\n",
       "    <tr>\n",
       "      <th>2</th>\n",
       "      <td>52</td>\n",
       "      <td>2010</td>\n",
       "      <td>32.1</td>\n",
       "      <td>148391139.0</td>\n",
       "      <td>967.898523</td>\n",
       "      <td>18.3</td>\n",
       "      <td>0.00351</td>\n",
       "      <td>4243879</td>\n",
       "      <td>Bangladesh</td>\n",
       "    </tr>\n",
       "    <tr>\n",
       "      <th>3</th>\n",
       "      <td>52</td>\n",
       "      <td>2016</td>\n",
       "      <td>32.4</td>\n",
       "      <td>159784568.0</td>\n",
       "      <td>1308.188406</td>\n",
       "      <td>15.0</td>\n",
       "      <td>0.00360</td>\n",
       "      <td>4243879</td>\n",
       "      <td>Bangladesh</td>\n",
       "    </tr>\n",
       "    <tr>\n",
       "      <th>4</th>\n",
       "      <td>52</td>\n",
       "      <td>2022</td>\n",
       "      <td>33.4</td>\n",
       "      <td>171186372.0</td>\n",
       "      <td>1785.361317</td>\n",
       "      <td>7.3</td>\n",
       "      <td>0.00213</td>\n",
       "      <td>4243879</td>\n",
       "      <td>Bangladesh</td>\n",
       "    </tr>\n",
       "  </tbody>\n",
       "</table>\n",
       "</div>"
      ],
      "text/plain": [
       "indicador_parametro  country_info_id  year  param_G      param_P      param_Y  \\\n",
       "0                                 52  2000     33.4  129193327.0   646.263073   \n",
       "1                                 52  2005     33.2  140912590.0   759.154640   \n",
       "2                                 52  2010     32.1  148391139.0   967.898523   \n",
       "3                                 52  2016     32.4  159784568.0  1308.188406   \n",
       "4                                 52  2022     33.4  171186372.0  1785.361317   \n",
       "\n",
       "indicador_parametro  param_pow      IPS  usuario pais_asignado  \n",
       "0                         27.0  0.00421  4243879    Bangladesh  \n",
       "1                         22.0  0.00364  4243879    Bangladesh  \n",
       "2                         18.3  0.00351  4243879    Bangladesh  \n",
       "3                         15.0  0.00360  4243879    Bangladesh  \n",
       "4                          7.3  0.00213  4243879    Bangladesh  "
      ]
     },
     "execution_count": 48,
     "metadata": {},
     "output_type": "execute_result"
    }
   ],
   "source": [
    "# asignando los nombres de los paises por el codigo\n",
    "df_agrupado['pais_asignado'] = df_agrupado['country_info_id'].map({52:'Bangladesh',93:'Eritrea',134:'Kazakhstan',175:'New Caledonia',216:'Slovenia'})\n",
    "df_agrupado.head()"
   ]
  },
  {
   "cell_type": "code",
   "execution_count": 49,
   "metadata": {},
   "outputs": [
    {
     "data": {
      "text/plain": [
       "(44, 9)"
      ]
     },
     "execution_count": 49,
     "metadata": {},
     "output_type": "execute_result"
    }
   ],
   "source": [
    "df_agrupado.shape"
   ]
  },
  {
   "cell_type": "code",
   "execution_count": 50,
   "metadata": {},
   "outputs": [
    {
     "name": "stdout",
     "output_type": "stream",
     "text": [
      "----------------------------------------------------------\n",
      "CI:                  4243879\n",
      "---------------------------------------------------------\n",
      "Pais Asignado          Año      Indice de Prosperidad\n",
      "---------------------------------------------------------\n",
      "Bangladesh            2000            0.00421\n",
      "Bangladesh            2005            0.00364\n",
      "Bangladesh            2010            0.00351\n",
      "Bangladesh            2016            0.0036\n",
      "Bangladesh            2022            0.00213\n",
      "Kazakhstan            2001            0.13337\n",
      "Kazakhstan            2002            0.10858\n",
      "Kazakhstan            2003            0.0862\n",
      "Kazakhstan            2004            0.05265\n",
      "Kazakhstan            2005            0.14296\n",
      "Kazakhstan            2006            0.01047\n",
      "Kazakhstan            2007            -0.00317\n",
      "Kazakhstan            2008            -0.00596\n",
      "Kazakhstan            2009            -0.0043\n",
      "Kazakhstan            2010            -0.00743\n",
      "Kazakhstan            2011            -0.0124\n",
      "Kazakhstan            2012            -0.01432\n",
      "Kazakhstan            2013            -0.01415\n",
      "Kazakhstan            2014            -0.01426\n",
      "Kazakhstan            2015            -0.01391\n",
      "Kazakhstan            2016            -0.01234\n",
      "Kazakhstan            2017            -0.01423\n",
      "Kazakhstan            2018            -0.01459\n",
      "Kazakhstan            2019            -0.01497\n",
      "Kazakhstan            2020            -0.01459\n",
      "Kazakhstan            2021            -0.01644\n",
      "Slovenia            2004            -0.19916\n",
      "Slovenia            2005            -0.20427\n",
      "Slovenia            2006            -0.23647\n",
      "Slovenia            2007            -0.25016\n",
      "Slovenia            2008            -0.2504\n",
      "Slovenia            2009            -0.23837\n",
      "Slovenia            2010            -0.24048\n",
      "Slovenia            2011            -0.24154\n",
      "Slovenia            2012            -0.24104\n",
      "Slovenia            2013            -0.24372\n",
      "Slovenia            2014            -0.24501\n",
      "Slovenia            2015            -0.24701\n",
      "Slovenia            2016            -0.24827\n",
      "Slovenia            2017            -0.25333\n",
      "Slovenia            2018            -0.26723\n",
      "Slovenia            2019            -0.27051\n",
      "Slovenia            2020            -0.25122\n",
      "Slovenia            2021            -0.27396\n"
     ]
    }
   ],
   "source": [
    "sw =0\n",
    "for indice, fila in df_agrupado.iterrows():\n",
    "    #print(fila['year'],fila['IPS'],fila['country_info_id'])\n",
    "    if sw == 0:\n",
    "        print('----------------------------------------------------------')\n",
    "        print(f\"CI:                  {fila['usuario']}\")\n",
    "        print(\"---------------------------------------------------------\")\n",
    "        print(f\"Pais Asignado          Año      Indice de Prosperidad\")\n",
    "        print(\"---------------------------------------------------------\")\n",
    "        sw =1\n",
    "    print(f\"{fila['pais_asignado']}            {fila['year']}            {fila['IPS']}\")"
   ]
  },
  {
   "cell_type": "code",
   "execution_count": 51,
   "metadata": {},
   "outputs": [
    {
     "name": "stderr",
     "output_type": "stream",
     "text": [
      "c:\\Users\\fred\\AppData\\Local\\Programs\\Python\\Python311\\Lib\\site-packages\\seaborn\\axisgrid.py:123: UserWarning: The figure layout has changed to tight\n",
      "  self._figure.tight_layout(*args, **kwargs)\n"
     ]
    },
    {
     "data": {
      "image/png": "[encoded data removed]",
      "text/plain": [
       "<Figure size 523.5x400 with 1 Axes>"
      ]
     },
     "metadata": {},
     "output_type": "display_data"
    }
   ],
   "source": [
    "#GRAFICO\n",
    "sns.set_style('whitegrid')\n",
    "sns.FacetGrid(df_agrupado, hue='pais_asignado', height=4) \\\n",
    "   .map(plt.scatter, 'year', 'IPS') \\\n",
    "   .add_legend()\n",
    "plt.show()"
   ]
  },
  {
   "cell_type": "code",
   "execution_count": 50,
   "metadata": {},
   "outputs": [],
   "source": [
    "# Subida de datos"
   ]
  },
  {
   "cell_type": "code",
   "execution_count": 52,
   "metadata": {},
   "outputs": [
    {
     "name": "stderr",
     "output_type": "stream",
     "text": [
      "C:\\Users\\fred\\AppData\\Local\\Temp\\ipykernel_13876\\912282622.py:3: MovedIn20Warning: The ``declarative_base()`` function is now available as sqlalchemy.orm.declarative_base(). (deprecated since: 2.0) (Background on SQLAlchemy 2.0 at: https://sqlalche.me/e/b8d9)\n",
      "  Base = declarative_base()\n"
     ]
    }
   ],
   "source": [
    "# Create a base class for the declarative model\n",
    "# Crear una clase base para el modelo declarativo\n",
    "Base = declarative_base()"
   ]
  },
  {
   "cell_type": "code",
   "execution_count": 53,
   "metadata": {},
   "outputs": [],
   "source": [
    "# Define the country_info table\n",
    "class CountryInfo(Base):\n",
    "    __tablename__ = 'country_info'\n",
    "    id = Column(Integer, primary_key=True, autoincrement=True)\n",
    "    country_name = Column(String, nullable=False)\n",
    "    country_code = Column(String, unique=True, nullable=False)\n",
    "    region = Column(String, nullable=False)\n",
    "    income_group = Column(String, nullable=False)\n",
    "    num_ci = Column(Integer, nullable=False)\n",
    "    \n",
    "    yearly_values = relationship(\"YearlyValue\", back_populates=\"country_info\")"
   ]
  },
  {
   "cell_type": "code",
   "execution_count": 54,
   "metadata": {},
   "outputs": [],
   "source": [
    "# Define the indicator table\n",
    "# Definir la tabla de indicadores.\n",
    "class Indicator(Base):\n",
    "    __tablename__ = 'indicator'\n",
    "    id = Column(Integer, primary_key=True, autoincrement=True)\n",
    "    indicator_name = Column(String, nullable=False)\n",
    "    indicator_code = Column(String, unique=True, nullable=False)\n",
    "    topic = Column(String, nullable=False)\n",
    "    \n",
    "    yearly_values = relationship(\"YearlyValue\", back_populates=\"indicator\")"
   ]
  },
  {
   "cell_type": "code",
   "execution_count": 55,
   "metadata": {},
   "outputs": [],
   "source": [
    "# Definir la tabla de valores_anuales\n",
    "class YearlyValue(Base):\n",
    "    __tablename__ = 'yearly_value'\n",
    "    id = Column(Integer, primary_key=True, autoincrement=True)\n",
    "    year = Column(Integer, nullable=False)\n",
    "    value = Column(Float, nullable=False)\n",
    "    country_info_id = Column(Integer, ForeignKey('country_info.id'), nullable=False)\n",
    "    indicator_id = Column(Integer, ForeignKey('indicator.id'), nullable=False)\n",
    "\n",
    "    country_info = relationship(\"CountryInfo\", back_populates=\"yearly_values\")\n",
    "    indicator = relationship(\"Indicator\", back_populates=\"yearly_values\")"
   ]
  },
  {
   "cell_type": "code",
   "execution_count": 56,
   "metadata": {},
   "outputs": [],
   "source": [
    "# Create a session\n",
    "Session = sessionmaker(bind=engine)\n",
    "session = Session()"
   ]
  },
  {
   "cell_type": "code",
   "execution_count": 100,
   "metadata": {},
   "outputs": [],
   "source": [
    "# para insertar los resultados obtenidos\n",
    "\n",
    "new_yearly_value = YearlyValue(\n",
    "    year=2021,\n",
    "    value=-0.27396,\n",
    "    country_info_id=216,\n",
    "    indicator_id=38\n",
    ")\n",
    "session.add(new_yearly_value)\n",
    "session.commit()"
   ]
  }
 ],
 "metadata": {
  "kernelspec": {
   "display_name": "Python 3",
   "language": "python",
   "name": "python3"
  },
  "language_info": {
   "codemirror_mode": {
    "name": "ipython",
    "version": 3
   },
   "file_extension": ".py",
   "mimetype": "text/x-python",
   "name": "python",
   "nbconvert_exporter": "python",
   "pygments_lexer": "ipython3",
   "version": "3.11.3"
  },
  "orig_nbformat": 4
 },
 "nbformat": 4,
 "nbformat_minor": 2
}
